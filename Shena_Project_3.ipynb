{
  "nbformat": 4,
  "nbformat_minor": 0,
  "metadata": {
    "kernelspec": {
      "display_name": "Python 3",
      "language": "python",
      "name": "python3"
    },
    "language_info": {
      "codemirror_mode": {
        "name": "ipython",
        "version": 3
      },
      "file_extension": ".py",
      "mimetype": "text/x-python",
      "name": "python",
      "nbconvert_exporter": "python",
      "pygments_lexer": "ipython3",
      "version": "3.7.4"
    },
    "colab": {
      "name": "Shena Project 3.ipynb",
      "provenance": [],
      "collapsed_sections": [],
      "include_colab_link": true
    }
  },
  "cells": [
    {
      "cell_type": "markdown",
      "metadata": {
        "id": "view-in-github",
        "colab_type": "text"
      },
      "source": [
        "<a href=\"https://colab.research.google.com/github/zsazsa123/Python-Project3/blob/master/Shena_Project_3.ipynb\" target=\"_parent\"><img src=\"https://colab.research.google.com/assets/colab-badge.svg\" alt=\"Open In Colab\"/></a>"
      ]
    },
    {
      "cell_type": "markdown",
      "metadata": {
        "id": "mnxEag1khTZr",
        "colab_type": "text"
      },
      "source": [
        "#  Shena Khan\n"
      ]
    },
    {
      "cell_type": "code",
      "metadata": {
        "id": "Hc2-LbGKhTZt",
        "colab_type": "code",
        "colab": {}
      },
      "source": [
        "\n",
        "import numpy as np\n",
        "import pandas as pd\n",
        "import matplotlib.pyplot as plt\n",
        "%matplotlib inline\n",
        "\n",
        "import seaborn as sns\n",
        "sns.set()\n",
        "sns.set(style=\"whitegrid\", color_codes=True)\n",
        "\n",
        "from plotly import __version__\n",
        "from plotly.offline import download_plotlyjs, init_notebook_mode, plot, iplot\n",
        "import plotly\n",
        "import plotly.graph_objs as go\n",
        "\n"
      ],
      "execution_count": 18,
      "outputs": []
    },
    {
      "cell_type": "markdown",
      "metadata": {
        "id": "nmaujoruhTZw",
        "colab_type": "text"
      },
      "source": [
        "Data Loading and Cleaning"
      ]
    },
    {
      "cell_type": "code",
      "metadata": {
        "id": "tpMBm50IhTZw",
        "colab_type": "code",
        "colab": {}
      },
      "source": [
        "# Import Violation Data from GitHub\n",
        "dfexcel= pd.read_excel('https://raw.githubusercontent.com/ArsenioMGonzalez3/Project3_ABDS/master/Open%20Parking%20and%20Camera%20Violations_OH%20NY_2019_2020%20YTD.xlsx')\n"
      ],
      "execution_count": 19,
      "outputs": []
    },
    {
      "cell_type": "code",
      "metadata": {
        "id": "0p0yc89JhTZz",
        "colab_type": "code",
        "colab": {
          "base_uri": "https://localhost:8080/",
          "height": 490
        },
        "outputId": "c6e658f0-9e56-4c3a-af22-9bc841d60fbb"
      },
      "source": [
        "# Get information on columns of the data loaded.\n",
        "dfexcel.info()"
      ],
      "execution_count": 20,
      "outputs": [
        {
          "output_type": "stream",
          "text": [
            "<class 'pandas.core.frame.DataFrame'>\n",
            "RangeIndex: 61627 entries, 0 to 61626\n",
            "Data columns (total 19 columns):\n",
            " #   Column               Non-Null Count  Dtype         \n",
            "---  ------               --------------  -----         \n",
            " 0   Plate                61627 non-null  object        \n",
            " 1   State                61627 non-null  object        \n",
            " 2   License Type         61627 non-null  object        \n",
            " 3   Summons Number       61627 non-null  int64         \n",
            " 4   Issue Date           61627 non-null  datetime64[ns]\n",
            " 5   Violation Time       61622 non-null  object        \n",
            " 6   Violation            61626 non-null  object        \n",
            " 7   Judgment Entry Date  1223 non-null   datetime64[ns]\n",
            " 8   Fine Amount          61627 non-null  int64         \n",
            " 9   Penalty Amount       61627 non-null  int64         \n",
            " 10  Interest Amount      61627 non-null  float64       \n",
            " 11  Reduction Amount     61627 non-null  float64       \n",
            " 12  Payment Amount       61627 non-null  float64       \n",
            " 13  Amount Due           61627 non-null  float64       \n",
            " 14  Precinct             61627 non-null  int64         \n",
            " 15  County               61032 non-null  object        \n",
            " 16  Issuing Agency       61627 non-null  object        \n",
            " 17  Violation Status     61627 non-null  object        \n",
            " 18  Summons Image        61627 non-null  object        \n",
            "dtypes: datetime64[ns](2), float64(4), int64(4), object(9)\n",
            "memory usage: 8.9+ MB\n"
          ],
          "name": "stdout"
        }
      ]
    },
    {
      "cell_type": "code",
      "metadata": {
        "id": "IlUiGSslhTZ3",
        "colab_type": "code",
        "colab": {
          "base_uri": "https://localhost:8080/",
          "height": 495
        },
        "outputId": "37965158-c965-4f68-ab5d-a7391f6e4661"
      },
      "source": [
        "dfexcel.head()\n"
      ],
      "execution_count": 21,
      "outputs": [
        {
          "output_type": "execute_result",
          "data": {
            "text/html": [
              "<div>\n",
              "<style scoped>\n",
              "    .dataframe tbody tr th:only-of-type {\n",
              "        vertical-align: middle;\n",
              "    }\n",
              "\n",
              "    .dataframe tbody tr th {\n",
              "        vertical-align: top;\n",
              "    }\n",
              "\n",
              "    .dataframe thead th {\n",
              "        text-align: right;\n",
              "    }\n",
              "</style>\n",
              "<table border=\"1\" class=\"dataframe\">\n",
              "  <thead>\n",
              "    <tr style=\"text-align: right;\">\n",
              "      <th></th>\n",
              "      <th>Plate</th>\n",
              "      <th>State</th>\n",
              "      <th>License Type</th>\n",
              "      <th>Summons Number</th>\n",
              "      <th>Issue Date</th>\n",
              "      <th>Violation Time</th>\n",
              "      <th>Violation</th>\n",
              "      <th>Judgment Entry Date</th>\n",
              "      <th>Fine Amount</th>\n",
              "      <th>Penalty Amount</th>\n",
              "      <th>Interest Amount</th>\n",
              "      <th>Reduction Amount</th>\n",
              "      <th>Payment Amount</th>\n",
              "      <th>Amount Due</th>\n",
              "      <th>Precinct</th>\n",
              "      <th>County</th>\n",
              "      <th>Issuing Agency</th>\n",
              "      <th>Violation Status</th>\n",
              "      <th>Summons Image</th>\n",
              "    </tr>\n",
              "  </thead>\n",
              "  <tbody>\n",
              "    <tr>\n",
              "      <th>0</th>\n",
              "      <td>T779796C</td>\n",
              "      <td>NY</td>\n",
              "      <td>OMT</td>\n",
              "      <td>4010739587</td>\n",
              "      <td>2019-03-11</td>\n",
              "      <td>07:58A</td>\n",
              "      <td>BUS LANE VIOLATION</td>\n",
              "      <td>2019-09-05</td>\n",
              "      <td>115</td>\n",
              "      <td>25</td>\n",
              "      <td>0.89</td>\n",
              "      <td>0.0</td>\n",
              "      <td>140.89</td>\n",
              "      <td>0.0</td>\n",
              "      <td>0</td>\n",
              "      <td>BX</td>\n",
              "      <td>DEPARTMENT OF TRANSPORTATION</td>\n",
              "      <td>HEARING HELD-GUILTY</td>\n",
              "      <td>View Summons (http://nycserv.nyc.gov/NYCServWe...</td>\n",
              "    </tr>\n",
              "    <tr>\n",
              "      <th>1</th>\n",
              "      <td>GPV1104</td>\n",
              "      <td>NY</td>\n",
              "      <td>PAS</td>\n",
              "      <td>4681390719</td>\n",
              "      <td>2020-03-17</td>\n",
              "      <td>03:43P</td>\n",
              "      <td>PHTO SCHOOL ZN SPEED VIOLATION</td>\n",
              "      <td>NaT</td>\n",
              "      <td>50</td>\n",
              "      <td>0</td>\n",
              "      <td>0.00</td>\n",
              "      <td>0.0</td>\n",
              "      <td>0.00</td>\n",
              "      <td>50.0</td>\n",
              "      <td>0</td>\n",
              "      <td>BK</td>\n",
              "      <td>DEPARTMENT OF TRANSPORTATION</td>\n",
              "      <td>HEARING PENDING</td>\n",
              "      <td>View Summons (http://nycserv.nyc.gov/NYCServWe...</td>\n",
              "    </tr>\n",
              "    <tr>\n",
              "      <th>2</th>\n",
              "      <td>T718661C</td>\n",
              "      <td>NY</td>\n",
              "      <td>OMT</td>\n",
              "      <td>4687842677</td>\n",
              "      <td>2020-04-21</td>\n",
              "      <td>07:18P</td>\n",
              "      <td>PHTO SCHOOL ZN SPEED VIOLATION</td>\n",
              "      <td>NaT</td>\n",
              "      <td>50</td>\n",
              "      <td>0</td>\n",
              "      <td>0.00</td>\n",
              "      <td>0.0</td>\n",
              "      <td>50.00</td>\n",
              "      <td>0.0</td>\n",
              "      <td>0</td>\n",
              "      <td>QN</td>\n",
              "      <td>DEPARTMENT OF TRANSPORTATION</td>\n",
              "      <td>HEARING HELD-GUILTY</td>\n",
              "      <td>View Summons (http://nycserv.nyc.gov/NYCServWe...</td>\n",
              "    </tr>\n",
              "    <tr>\n",
              "      <th>3</th>\n",
              "      <td>HRR5155</td>\n",
              "      <td>NY</td>\n",
              "      <td>PAS</td>\n",
              "      <td>4681391645</td>\n",
              "      <td>2020-03-17</td>\n",
              "      <td>03:48P</td>\n",
              "      <td>PHTO SCHOOL ZN SPEED VIOLATION</td>\n",
              "      <td>NaT</td>\n",
              "      <td>50</td>\n",
              "      <td>0</td>\n",
              "      <td>0.00</td>\n",
              "      <td>0.0</td>\n",
              "      <td>0.00</td>\n",
              "      <td>50.0</td>\n",
              "      <td>0</td>\n",
              "      <td>BK</td>\n",
              "      <td>DEPARTMENT OF TRANSPORTATION</td>\n",
              "      <td>HEARING PENDING</td>\n",
              "      <td>View Summons (http://nycserv.nyc.gov/NYCServWe...</td>\n",
              "    </tr>\n",
              "    <tr>\n",
              "      <th>4</th>\n",
              "      <td>GSL3431</td>\n",
              "      <td>NY</td>\n",
              "      <td>PAS</td>\n",
              "      <td>4681391694</td>\n",
              "      <td>2020-03-17</td>\n",
              "      <td>03:49P</td>\n",
              "      <td>PHTO SCHOOL ZN SPEED VIOLATION</td>\n",
              "      <td>NaT</td>\n",
              "      <td>50</td>\n",
              "      <td>0</td>\n",
              "      <td>0.00</td>\n",
              "      <td>0.0</td>\n",
              "      <td>0.00</td>\n",
              "      <td>50.0</td>\n",
              "      <td>0</td>\n",
              "      <td>BK</td>\n",
              "      <td>DEPARTMENT OF TRANSPORTATION</td>\n",
              "      <td>HEARING PENDING</td>\n",
              "      <td>View Summons (http://nycserv.nyc.gov/NYCServWe...</td>\n",
              "    </tr>\n",
              "  </tbody>\n",
              "</table>\n",
              "</div>"
            ],
            "text/plain": [
              "      Plate  ...                                      Summons Image\n",
              "0  T779796C  ...  View Summons (http://nycserv.nyc.gov/NYCServWe...\n",
              "1   GPV1104  ...  View Summons (http://nycserv.nyc.gov/NYCServWe...\n",
              "2  T718661C  ...  View Summons (http://nycserv.nyc.gov/NYCServWe...\n",
              "3   HRR5155  ...  View Summons (http://nycserv.nyc.gov/NYCServWe...\n",
              "4   GSL3431  ...  View Summons (http://nycserv.nyc.gov/NYCServWe...\n",
              "\n",
              "[5 rows x 19 columns]"
            ]
          },
          "metadata": {
            "tags": []
          },
          "execution_count": 21
        }
      ]
    },
    {
      "cell_type": "markdown",
      "metadata": {
        "id": "dz1P_DvchTZ5",
        "colab_type": "text"
      },
      "source": [
        "### Making Data Uniform & Creating new field\n",
        "*italicized text*"
      ]
    },
    {
      "cell_type": "code",
      "metadata": {
        "id": "JaCL7zl8hTZ6",
        "colab_type": "code",
        "colab": {}
      },
      "source": [
        "c_dictionary = { 'K' : \"Brooklyn\", 'BK' : \"Brooklyn\", 'Q' : \"Queens\", 'QN' : \"Queens\",\n",
        "                 'NY' : \"Manhattan\", 'MN' : \"Manhattan\", 'R' : \"Staten Island\", 'ST' : \"Staten Island\",\n",
        "                 'BX' : \"Bronx\", '' : \"Blank\"}\n",
        "\n",
        "dfexcel['Borough'] = dfexcel['County'].map(c_dictionary)"
      ],
      "execution_count": 22,
      "outputs": []
    },
    {
      "cell_type": "markdown",
      "metadata": {
        "id": "53w06UPDhTZ8",
        "colab_type": "text"
      },
      "source": [
        "## Creating new fields from old fields.\n",
        "\n",
        "> Indented block\n",
        "\n"
      ]
    },
    {
      "cell_type": "code",
      "metadata": {
        "id": "roqHaoqahTZ9",
        "colab_type": "code",
        "colab": {}
      },
      "source": [
        "#Creating a count of records so it can be used in any calculations \n",
        "dfexcel['Count'] = 1\n",
        "\n",
        "#Parsing out Year and Month from the \"Issue Date\" Column using DatetimeIndex\n",
        "dfexcel['Year'] = pd.DatetimeIndex(dfexcel['Issue Date']).year\n",
        "dfexcel['Month'] = pd.DatetimeIndex(dfexcel['Issue Date']).month\n",
        "\n"
      ],
      "execution_count": 23,
      "outputs": []
    },
    {
      "cell_type": "code",
      "metadata": {
        "id": "L0Qd66PihTZ_",
        "colab_type": "code",
        "colab": {}
      },
      "source": [
        "# Change the format for Year and Month into a String\n",
        "dfexcel['Year']= dfexcel['Year'].astype(str)\n",
        "dfexcel['Month']= dfexcel['Month'].astype(str)\n"
      ],
      "execution_count": 25,
      "outputs": []
    },
    {
      "cell_type": "code",
      "metadata": {
        "id": "1h5TrKxahTaD",
        "colab_type": "code",
        "colab": {
          "base_uri": "https://localhost:8080/",
          "height": 495
        },
        "outputId": "0b158319-7db6-4945-edbf-234f7e846382"
      },
      "source": [
        "# In order to get the total amount of the fine we need to sum all of the columns that hold amounts related to the fine.\n",
        "    # 'Fine Amount' + 'Penalty Amount' + 'Interest Amount' + 'Reduction Amount'\n",
        "\n",
        "dfexcel['Total_Fine']= dfexcel['Fine Amount'] + dfexcel['Penalty Amount'] + dfexcel['Interest Amount'] + dfexcel['Reduction Amount']\n",
        "\n",
        "dfexcel.head()"
      ],
      "execution_count": 27,
      "outputs": [
        {
          "output_type": "execute_result",
          "data": {
            "text/html": [
              "<div>\n",
              "<style scoped>\n",
              "    .dataframe tbody tr th:only-of-type {\n",
              "        vertical-align: middle;\n",
              "    }\n",
              "\n",
              "    .dataframe tbody tr th {\n",
              "        vertical-align: top;\n",
              "    }\n",
              "\n",
              "    .dataframe thead th {\n",
              "        text-align: right;\n",
              "    }\n",
              "</style>\n",
              "<table border=\"1\" class=\"dataframe\">\n",
              "  <thead>\n",
              "    <tr style=\"text-align: right;\">\n",
              "      <th></th>\n",
              "      <th>Plate</th>\n",
              "      <th>State</th>\n",
              "      <th>License Type</th>\n",
              "      <th>Summons Number</th>\n",
              "      <th>Issue Date</th>\n",
              "      <th>Violation Time</th>\n",
              "      <th>Violation</th>\n",
              "      <th>Judgment Entry Date</th>\n",
              "      <th>Fine Amount</th>\n",
              "      <th>Penalty Amount</th>\n",
              "      <th>Interest Amount</th>\n",
              "      <th>Reduction Amount</th>\n",
              "      <th>Payment Amount</th>\n",
              "      <th>Amount Due</th>\n",
              "      <th>Precinct</th>\n",
              "      <th>County</th>\n",
              "      <th>Issuing Agency</th>\n",
              "      <th>Violation Status</th>\n",
              "      <th>Summons Image</th>\n",
              "      <th>Borough</th>\n",
              "      <th>Count</th>\n",
              "      <th>Year</th>\n",
              "      <th>Month</th>\n",
              "      <th>Total_Fine</th>\n",
              "    </tr>\n",
              "  </thead>\n",
              "  <tbody>\n",
              "    <tr>\n",
              "      <th>0</th>\n",
              "      <td>T779796C</td>\n",
              "      <td>NY</td>\n",
              "      <td>OMT</td>\n",
              "      <td>4010739587</td>\n",
              "      <td>2019-03-11</td>\n",
              "      <td>07:58A</td>\n",
              "      <td>BUS LANE VIOLATION</td>\n",
              "      <td>2019-09-05</td>\n",
              "      <td>115</td>\n",
              "      <td>25</td>\n",
              "      <td>0.89</td>\n",
              "      <td>0.0</td>\n",
              "      <td>140.89</td>\n",
              "      <td>0.0</td>\n",
              "      <td>0</td>\n",
              "      <td>BX</td>\n",
              "      <td>DEPARTMENT OF TRANSPORTATION</td>\n",
              "      <td>HEARING HELD-GUILTY</td>\n",
              "      <td>View Summons (http://nycserv.nyc.gov/NYCServWe...</td>\n",
              "      <td>Bronx</td>\n",
              "      <td>1</td>\n",
              "      <td>2019</td>\n",
              "      <td>3</td>\n",
              "      <td>140.89</td>\n",
              "    </tr>\n",
              "    <tr>\n",
              "      <th>1</th>\n",
              "      <td>GPV1104</td>\n",
              "      <td>NY</td>\n",
              "      <td>PAS</td>\n",
              "      <td>4681390719</td>\n",
              "      <td>2020-03-17</td>\n",
              "      <td>03:43P</td>\n",
              "      <td>PHTO SCHOOL ZN SPEED VIOLATION</td>\n",
              "      <td>NaT</td>\n",
              "      <td>50</td>\n",
              "      <td>0</td>\n",
              "      <td>0.00</td>\n",
              "      <td>0.0</td>\n",
              "      <td>0.00</td>\n",
              "      <td>50.0</td>\n",
              "      <td>0</td>\n",
              "      <td>BK</td>\n",
              "      <td>DEPARTMENT OF TRANSPORTATION</td>\n",
              "      <td>HEARING PENDING</td>\n",
              "      <td>View Summons (http://nycserv.nyc.gov/NYCServWe...</td>\n",
              "      <td>Brooklyn</td>\n",
              "      <td>1</td>\n",
              "      <td>2020</td>\n",
              "      <td>3</td>\n",
              "      <td>50.00</td>\n",
              "    </tr>\n",
              "    <tr>\n",
              "      <th>2</th>\n",
              "      <td>T718661C</td>\n",
              "      <td>NY</td>\n",
              "      <td>OMT</td>\n",
              "      <td>4687842677</td>\n",
              "      <td>2020-04-21</td>\n",
              "      <td>07:18P</td>\n",
              "      <td>PHTO SCHOOL ZN SPEED VIOLATION</td>\n",
              "      <td>NaT</td>\n",
              "      <td>50</td>\n",
              "      <td>0</td>\n",
              "      <td>0.00</td>\n",
              "      <td>0.0</td>\n",
              "      <td>50.00</td>\n",
              "      <td>0.0</td>\n",
              "      <td>0</td>\n",
              "      <td>QN</td>\n",
              "      <td>DEPARTMENT OF TRANSPORTATION</td>\n",
              "      <td>HEARING HELD-GUILTY</td>\n",
              "      <td>View Summons (http://nycserv.nyc.gov/NYCServWe...</td>\n",
              "      <td>Queens</td>\n",
              "      <td>1</td>\n",
              "      <td>2020</td>\n",
              "      <td>4</td>\n",
              "      <td>50.00</td>\n",
              "    </tr>\n",
              "    <tr>\n",
              "      <th>3</th>\n",
              "      <td>HRR5155</td>\n",
              "      <td>NY</td>\n",
              "      <td>PAS</td>\n",
              "      <td>4681391645</td>\n",
              "      <td>2020-03-17</td>\n",
              "      <td>03:48P</td>\n",
              "      <td>PHTO SCHOOL ZN SPEED VIOLATION</td>\n",
              "      <td>NaT</td>\n",
              "      <td>50</td>\n",
              "      <td>0</td>\n",
              "      <td>0.00</td>\n",
              "      <td>0.0</td>\n",
              "      <td>0.00</td>\n",
              "      <td>50.0</td>\n",
              "      <td>0</td>\n",
              "      <td>BK</td>\n",
              "      <td>DEPARTMENT OF TRANSPORTATION</td>\n",
              "      <td>HEARING PENDING</td>\n",
              "      <td>View Summons (http://nycserv.nyc.gov/NYCServWe...</td>\n",
              "      <td>Brooklyn</td>\n",
              "      <td>1</td>\n",
              "      <td>2020</td>\n",
              "      <td>3</td>\n",
              "      <td>50.00</td>\n",
              "    </tr>\n",
              "    <tr>\n",
              "      <th>4</th>\n",
              "      <td>GSL3431</td>\n",
              "      <td>NY</td>\n",
              "      <td>PAS</td>\n",
              "      <td>4681391694</td>\n",
              "      <td>2020-03-17</td>\n",
              "      <td>03:49P</td>\n",
              "      <td>PHTO SCHOOL ZN SPEED VIOLATION</td>\n",
              "      <td>NaT</td>\n",
              "      <td>50</td>\n",
              "      <td>0</td>\n",
              "      <td>0.00</td>\n",
              "      <td>0.0</td>\n",
              "      <td>0.00</td>\n",
              "      <td>50.0</td>\n",
              "      <td>0</td>\n",
              "      <td>BK</td>\n",
              "      <td>DEPARTMENT OF TRANSPORTATION</td>\n",
              "      <td>HEARING PENDING</td>\n",
              "      <td>View Summons (http://nycserv.nyc.gov/NYCServWe...</td>\n",
              "      <td>Brooklyn</td>\n",
              "      <td>1</td>\n",
              "      <td>2020</td>\n",
              "      <td>3</td>\n",
              "      <td>50.00</td>\n",
              "    </tr>\n",
              "  </tbody>\n",
              "</table>\n",
              "</div>"
            ],
            "text/plain": [
              "      Plate State License Type  Summons Number  ... Count  Year Month Total_Fine\n",
              "0  T779796C    NY          OMT      4010739587  ...     1  2019     3     140.89\n",
              "1   GPV1104    NY          PAS      4681390719  ...     1  2020     3      50.00\n",
              "2  T718661C    NY          OMT      4687842677  ...     1  2020     4      50.00\n",
              "3   HRR5155    NY          PAS      4681391645  ...     1  2020     3      50.00\n",
              "4   GSL3431    NY          PAS      4681391694  ...     1  2020     3      50.00\n",
              "\n",
              "[5 rows x 24 columns]"
            ]
          },
          "metadata": {
            "tags": []
          },
          "execution_count": 27
        }
      ]
    },
    {
      "cell_type": "markdown",
      "metadata": {
        "id": "CqjPVVV7hTaF",
        "colab_type": "text"
      },
      "source": [
        "## Top 5 Violation by Sum of Total Fine Amount"
      ]
    },
    {
      "cell_type": "code",
      "metadata": {
        "id": "DBZofjJOhTaG",
        "colab_type": "code",
        "colab": {
          "base_uri": "https://localhost:8080/",
          "height": 198
        },
        "outputId": "7a7b59d1-d8ae-4531-deeb-376ff2964588"
      },
      "source": [
        "# Group the data and sum the Count of vilotaions and the Total Fine\n",
        "df_Group_V= dfexcel.groupby(['Violation']).agg(\n",
        "    \n",
        "    Count=('Count', sum),\n",
        "    \n",
        "    Total_Fine=('Total_Fine', sum)\n",
        "    \n",
        "    )\n",
        "# To create index\n",
        "df_Group_V = df_Group_V.reset_index()\n",
        "df_Group_V.head()\n"
      ],
      "execution_count": 28,
      "outputs": [
        {
          "output_type": "execute_result",
          "data": {
            "text/html": [
              "<div>\n",
              "<style scoped>\n",
              "    .dataframe tbody tr th:only-of-type {\n",
              "        vertical-align: middle;\n",
              "    }\n",
              "\n",
              "    .dataframe tbody tr th {\n",
              "        vertical-align: top;\n",
              "    }\n",
              "\n",
              "    .dataframe thead th {\n",
              "        text-align: right;\n",
              "    }\n",
              "</style>\n",
              "<table border=\"1\" class=\"dataframe\">\n",
              "  <thead>\n",
              "    <tr style=\"text-align: right;\">\n",
              "      <th></th>\n",
              "      <th>Violation</th>\n",
              "      <th>Count</th>\n",
              "      <th>Total_Fine</th>\n",
              "    </tr>\n",
              "  </thead>\n",
              "  <tbody>\n",
              "    <tr>\n",
              "      <th>0</th>\n",
              "      <td>ANGLE PARKING</td>\n",
              "      <td>21</td>\n",
              "      <td>1594.09</td>\n",
              "    </tr>\n",
              "    <tr>\n",
              "      <th>1</th>\n",
              "      <td>ANGLE PARKING-COMM VEHICLE</td>\n",
              "      <td>1</td>\n",
              "      <td>115.00</td>\n",
              "    </tr>\n",
              "    <tr>\n",
              "      <th>2</th>\n",
              "      <td>BEYOND MARKED SPACE</td>\n",
              "      <td>24</td>\n",
              "      <td>2031.67</td>\n",
              "    </tr>\n",
              "    <tr>\n",
              "      <th>3</th>\n",
              "      <td>BIKE LANE</td>\n",
              "      <td>622</td>\n",
              "      <td>91474.46</td>\n",
              "    </tr>\n",
              "    <tr>\n",
              "      <th>4</th>\n",
              "      <td>BUS LANE VIOLATION</td>\n",
              "      <td>525</td>\n",
              "      <td>52623.59</td>\n",
              "    </tr>\n",
              "  </tbody>\n",
              "</table>\n",
              "</div>"
            ],
            "text/plain": [
              "                    Violation  Count  Total_Fine\n",
              "0               ANGLE PARKING     21     1594.09\n",
              "1  ANGLE PARKING-COMM VEHICLE      1      115.00\n",
              "2         BEYOND MARKED SPACE     24     2031.67\n",
              "3                   BIKE LANE    622    91474.46\n",
              "4          BUS LANE VIOLATION    525    52623.59"
            ]
          },
          "metadata": {
            "tags": []
          },
          "execution_count": 28
        }
      ]
    },
    {
      "cell_type": "code",
      "metadata": {
        "id": "P6CQ7aishTaI",
        "colab_type": "code",
        "colab": {
          "base_uri": "https://localhost:8080/",
          "height": 198
        },
        "outputId": "95beee99-72a5-49ea-a294-31b2494f4dbf"
      },
      "source": [
        "# Sort the column Total Fine in decensing order using the sort_values function\n",
        "df_Group_S=df_Group_V.sort_values(by='Total_Fine', ascending=False)\n",
        "df_Group_S = df_Group_S.reset_index()\n",
        "df_Group_S.head()"
      ],
      "execution_count": 29,
      "outputs": [
        {
          "output_type": "execute_result",
          "data": {
            "text/html": [
              "<div>\n",
              "<style scoped>\n",
              "    .dataframe tbody tr th:only-of-type {\n",
              "        vertical-align: middle;\n",
              "    }\n",
              "\n",
              "    .dataframe tbody tr th {\n",
              "        vertical-align: top;\n",
              "    }\n",
              "\n",
              "    .dataframe thead th {\n",
              "        text-align: right;\n",
              "    }\n",
              "</style>\n",
              "<table border=\"1\" class=\"dataframe\">\n",
              "  <thead>\n",
              "    <tr style=\"text-align: right;\">\n",
              "      <th></th>\n",
              "      <th>index</th>\n",
              "      <th>Violation</th>\n",
              "      <th>Count</th>\n",
              "      <th>Total_Fine</th>\n",
              "    </tr>\n",
              "  </thead>\n",
              "  <tbody>\n",
              "    <tr>\n",
              "      <th>0</th>\n",
              "      <td>60</td>\n",
              "      <td>PHTO SCHOOL ZN SPEED VIOLATION</td>\n",
              "      <td>21587</td>\n",
              "      <td>1109578.03</td>\n",
              "    </tr>\n",
              "    <tr>\n",
              "      <th>1</th>\n",
              "      <td>10</td>\n",
              "      <td>DOUBLE PARKING</td>\n",
              "      <td>5324</td>\n",
              "      <td>1071073.74</td>\n",
              "    </tr>\n",
              "    <tr>\n",
              "      <th>2</th>\n",
              "      <td>42</td>\n",
              "      <td>NO STANDING-DAY/TIME LIMITS</td>\n",
              "      <td>6157</td>\n",
              "      <td>897778.69</td>\n",
              "    </tr>\n",
              "    <tr>\n",
              "      <th>3</th>\n",
              "      <td>35</td>\n",
              "      <td>NO PARKING-STREET CLEANING</td>\n",
              "      <td>3718</td>\n",
              "      <td>317364.17</td>\n",
              "    </tr>\n",
              "    <tr>\n",
              "      <th>4</th>\n",
              "      <td>31</td>\n",
              "      <td>NO PARKING-DAY/TIME LIMITS</td>\n",
              "      <td>2844</td>\n",
              "      <td>303491.06</td>\n",
              "    </tr>\n",
              "  </tbody>\n",
              "</table>\n",
              "</div>"
            ],
            "text/plain": [
              "   index                       Violation  Count  Total_Fine\n",
              "0     60  PHTO SCHOOL ZN SPEED VIOLATION  21587  1109578.03\n",
              "1     10                  DOUBLE PARKING   5324  1071073.74\n",
              "2     42     NO STANDING-DAY/TIME LIMITS   6157   897778.69\n",
              "3     35      NO PARKING-STREET CLEANING   3718   317364.17\n",
              "4     31      NO PARKING-DAY/TIME LIMITS   2844   303491.06"
            ]
          },
          "metadata": {
            "tags": []
          },
          "execution_count": 29
        }
      ]
    },
    {
      "cell_type": "code",
      "metadata": {
        "id": "gNdBGUAThTaK",
        "colab_type": "code",
        "colab": {
          "base_uri": "https://localhost:8080/",
          "height": 108
        },
        "outputId": "d0e3062b-3d18-4940-a376-12590549231c"
      },
      "source": [
        "# Create a list containing the Top 5 Violations\n",
        "top_5_list = df_Group_S['Violation'].tolist()\n",
        "top_5_list = top_5_list[:5]\n",
        "top_5_list\n"
      ],
      "execution_count": 30,
      "outputs": [
        {
          "output_type": "execute_result",
          "data": {
            "text/plain": [
              "['PHTO SCHOOL ZN SPEED VIOLATION',\n",
              " 'DOUBLE PARKING',\n",
              " 'NO STANDING-DAY/TIME LIMITS',\n",
              " 'NO PARKING-STREET CLEANING',\n",
              " 'NO PARKING-DAY/TIME LIMITS']"
            ]
          },
          "metadata": {
            "tags": []
          },
          "execution_count": 30
        }
      ]
    },
    {
      "cell_type": "markdown",
      "metadata": {
        "id": "lo26wziohTaP",
        "colab_type": "text"
      },
      "source": [
        "Using the lambda function to create the \"Top_5\" column. \n",
        "The function states for every record in column \"Violation\" check if the value is in the list \"top_5_list\". If so, then place \"Top_5\" in the \"Top_5\" column; for all other records leave blank. "
      ]
    },
    {
      "cell_type": "code",
      "metadata": {
        "id": "79u1UrYNhTaQ",
        "colab_type": "code",
        "colab": {
          "base_uri": "https://localhost:8080/",
          "height": 495
        },
        "outputId": "0a935f80-e06d-4359-9b17-9e9d901ee0e6"
      },
      "source": [
        "dfexcel['Top_List'] = dfexcel['Violation'].apply(lambda x: 'Top_5' if x in top_5_list else '')\n",
        "dfexcel.head()"
      ],
      "execution_count": 31,
      "outputs": [
        {
          "output_type": "execute_result",
          "data": {
            "text/html": [
              "<div>\n",
              "<style scoped>\n",
              "    .dataframe tbody tr th:only-of-type {\n",
              "        vertical-align: middle;\n",
              "    }\n",
              "\n",
              "    .dataframe tbody tr th {\n",
              "        vertical-align: top;\n",
              "    }\n",
              "\n",
              "    .dataframe thead th {\n",
              "        text-align: right;\n",
              "    }\n",
              "</style>\n",
              "<table border=\"1\" class=\"dataframe\">\n",
              "  <thead>\n",
              "    <tr style=\"text-align: right;\">\n",
              "      <th></th>\n",
              "      <th>Plate</th>\n",
              "      <th>State</th>\n",
              "      <th>License Type</th>\n",
              "      <th>Summons Number</th>\n",
              "      <th>Issue Date</th>\n",
              "      <th>Violation Time</th>\n",
              "      <th>Violation</th>\n",
              "      <th>Judgment Entry Date</th>\n",
              "      <th>Fine Amount</th>\n",
              "      <th>Penalty Amount</th>\n",
              "      <th>Interest Amount</th>\n",
              "      <th>Reduction Amount</th>\n",
              "      <th>Payment Amount</th>\n",
              "      <th>Amount Due</th>\n",
              "      <th>Precinct</th>\n",
              "      <th>County</th>\n",
              "      <th>Issuing Agency</th>\n",
              "      <th>Violation Status</th>\n",
              "      <th>Summons Image</th>\n",
              "      <th>Borough</th>\n",
              "      <th>Count</th>\n",
              "      <th>Year</th>\n",
              "      <th>Month</th>\n",
              "      <th>Total_Fine</th>\n",
              "      <th>Top_List</th>\n",
              "    </tr>\n",
              "  </thead>\n",
              "  <tbody>\n",
              "    <tr>\n",
              "      <th>0</th>\n",
              "      <td>T779796C</td>\n",
              "      <td>NY</td>\n",
              "      <td>OMT</td>\n",
              "      <td>4010739587</td>\n",
              "      <td>2019-03-11</td>\n",
              "      <td>07:58A</td>\n",
              "      <td>BUS LANE VIOLATION</td>\n",
              "      <td>2019-09-05</td>\n",
              "      <td>115</td>\n",
              "      <td>25</td>\n",
              "      <td>0.89</td>\n",
              "      <td>0.0</td>\n",
              "      <td>140.89</td>\n",
              "      <td>0.0</td>\n",
              "      <td>0</td>\n",
              "      <td>BX</td>\n",
              "      <td>DEPARTMENT OF TRANSPORTATION</td>\n",
              "      <td>HEARING HELD-GUILTY</td>\n",
              "      <td>View Summons (http://nycserv.nyc.gov/NYCServWe...</td>\n",
              "      <td>Bronx</td>\n",
              "      <td>1</td>\n",
              "      <td>2019</td>\n",
              "      <td>3</td>\n",
              "      <td>140.89</td>\n",
              "      <td></td>\n",
              "    </tr>\n",
              "    <tr>\n",
              "      <th>1</th>\n",
              "      <td>GPV1104</td>\n",
              "      <td>NY</td>\n",
              "      <td>PAS</td>\n",
              "      <td>4681390719</td>\n",
              "      <td>2020-03-17</td>\n",
              "      <td>03:43P</td>\n",
              "      <td>PHTO SCHOOL ZN SPEED VIOLATION</td>\n",
              "      <td>NaT</td>\n",
              "      <td>50</td>\n",
              "      <td>0</td>\n",
              "      <td>0.00</td>\n",
              "      <td>0.0</td>\n",
              "      <td>0.00</td>\n",
              "      <td>50.0</td>\n",
              "      <td>0</td>\n",
              "      <td>BK</td>\n",
              "      <td>DEPARTMENT OF TRANSPORTATION</td>\n",
              "      <td>HEARING PENDING</td>\n",
              "      <td>View Summons (http://nycserv.nyc.gov/NYCServWe...</td>\n",
              "      <td>Brooklyn</td>\n",
              "      <td>1</td>\n",
              "      <td>2020</td>\n",
              "      <td>3</td>\n",
              "      <td>50.00</td>\n",
              "      <td>Top_5</td>\n",
              "    </tr>\n",
              "    <tr>\n",
              "      <th>2</th>\n",
              "      <td>T718661C</td>\n",
              "      <td>NY</td>\n",
              "      <td>OMT</td>\n",
              "      <td>4687842677</td>\n",
              "      <td>2020-04-21</td>\n",
              "      <td>07:18P</td>\n",
              "      <td>PHTO SCHOOL ZN SPEED VIOLATION</td>\n",
              "      <td>NaT</td>\n",
              "      <td>50</td>\n",
              "      <td>0</td>\n",
              "      <td>0.00</td>\n",
              "      <td>0.0</td>\n",
              "      <td>50.00</td>\n",
              "      <td>0.0</td>\n",
              "      <td>0</td>\n",
              "      <td>QN</td>\n",
              "      <td>DEPARTMENT OF TRANSPORTATION</td>\n",
              "      <td>HEARING HELD-GUILTY</td>\n",
              "      <td>View Summons (http://nycserv.nyc.gov/NYCServWe...</td>\n",
              "      <td>Queens</td>\n",
              "      <td>1</td>\n",
              "      <td>2020</td>\n",
              "      <td>4</td>\n",
              "      <td>50.00</td>\n",
              "      <td>Top_5</td>\n",
              "    </tr>\n",
              "    <tr>\n",
              "      <th>3</th>\n",
              "      <td>HRR5155</td>\n",
              "      <td>NY</td>\n",
              "      <td>PAS</td>\n",
              "      <td>4681391645</td>\n",
              "      <td>2020-03-17</td>\n",
              "      <td>03:48P</td>\n",
              "      <td>PHTO SCHOOL ZN SPEED VIOLATION</td>\n",
              "      <td>NaT</td>\n",
              "      <td>50</td>\n",
              "      <td>0</td>\n",
              "      <td>0.00</td>\n",
              "      <td>0.0</td>\n",
              "      <td>0.00</td>\n",
              "      <td>50.0</td>\n",
              "      <td>0</td>\n",
              "      <td>BK</td>\n",
              "      <td>DEPARTMENT OF TRANSPORTATION</td>\n",
              "      <td>HEARING PENDING</td>\n",
              "      <td>View Summons (http://nycserv.nyc.gov/NYCServWe...</td>\n",
              "      <td>Brooklyn</td>\n",
              "      <td>1</td>\n",
              "      <td>2020</td>\n",
              "      <td>3</td>\n",
              "      <td>50.00</td>\n",
              "      <td>Top_5</td>\n",
              "    </tr>\n",
              "    <tr>\n",
              "      <th>4</th>\n",
              "      <td>GSL3431</td>\n",
              "      <td>NY</td>\n",
              "      <td>PAS</td>\n",
              "      <td>4681391694</td>\n",
              "      <td>2020-03-17</td>\n",
              "      <td>03:49P</td>\n",
              "      <td>PHTO SCHOOL ZN SPEED VIOLATION</td>\n",
              "      <td>NaT</td>\n",
              "      <td>50</td>\n",
              "      <td>0</td>\n",
              "      <td>0.00</td>\n",
              "      <td>0.0</td>\n",
              "      <td>0.00</td>\n",
              "      <td>50.0</td>\n",
              "      <td>0</td>\n",
              "      <td>BK</td>\n",
              "      <td>DEPARTMENT OF TRANSPORTATION</td>\n",
              "      <td>HEARING PENDING</td>\n",
              "      <td>View Summons (http://nycserv.nyc.gov/NYCServWe...</td>\n",
              "      <td>Brooklyn</td>\n",
              "      <td>1</td>\n",
              "      <td>2020</td>\n",
              "      <td>3</td>\n",
              "      <td>50.00</td>\n",
              "      <td>Top_5</td>\n",
              "    </tr>\n",
              "  </tbody>\n",
              "</table>\n",
              "</div>"
            ],
            "text/plain": [
              "      Plate State License Type  Summons Number  ...  Year Month Total_Fine Top_List\n",
              "0  T779796C    NY          OMT      4010739587  ...  2019     3     140.89         \n",
              "1   GPV1104    NY          PAS      4681390719  ...  2020     3      50.00    Top_5\n",
              "2  T718661C    NY          OMT      4687842677  ...  2020     4      50.00    Top_5\n",
              "3   HRR5155    NY          PAS      4681391645  ...  2020     3      50.00    Top_5\n",
              "4   GSL3431    NY          PAS      4681391694  ...  2020     3      50.00    Top_5\n",
              "\n",
              "[5 rows x 25 columns]"
            ]
          },
          "metadata": {
            "tags": []
          },
          "execution_count": 31
        }
      ]
    },
    {
      "cell_type": "code",
      "metadata": {
        "id": "FAAVKdR5hTaS",
        "colab_type": "code",
        "colab": {
          "base_uri": "https://localhost:8080/",
          "height": 198
        },
        "outputId": "dc4c638e-d882-4495-f068-7218973f4d9e"
      },
      "source": [
        "# Group the data and sum the Count of vilotaions and the Total Fine\n",
        "df_Group_A= dfexcel.groupby(['Violation', 'Borough', 'Top_List', 'Year']).agg(\n",
        "\n",
        "    Count=('Count', sum),\n",
        "    \n",
        "    Total_Fine=('Total_Fine', sum)\n",
        "    )\n",
        "df_Group_A = df_Group_A.reset_index()\n",
        "df_Group_A.head()"
      ],
      "execution_count": 32,
      "outputs": [
        {
          "output_type": "execute_result",
          "data": {
            "text/html": [
              "<div>\n",
              "<style scoped>\n",
              "    .dataframe tbody tr th:only-of-type {\n",
              "        vertical-align: middle;\n",
              "    }\n",
              "\n",
              "    .dataframe tbody tr th {\n",
              "        vertical-align: top;\n",
              "    }\n",
              "\n",
              "    .dataframe thead th {\n",
              "        text-align: right;\n",
              "    }\n",
              "</style>\n",
              "<table border=\"1\" class=\"dataframe\">\n",
              "  <thead>\n",
              "    <tr style=\"text-align: right;\">\n",
              "      <th></th>\n",
              "      <th>Violation</th>\n",
              "      <th>Borough</th>\n",
              "      <th>Top_List</th>\n",
              "      <th>Year</th>\n",
              "      <th>Count</th>\n",
              "      <th>Total_Fine</th>\n",
              "    </tr>\n",
              "  </thead>\n",
              "  <tbody>\n",
              "    <tr>\n",
              "      <th>0</th>\n",
              "      <td>ANGLE PARKING</td>\n",
              "      <td>Bronx</td>\n",
              "      <td></td>\n",
              "      <td>2019</td>\n",
              "      <td>2</td>\n",
              "      <td>200.00</td>\n",
              "    </tr>\n",
              "    <tr>\n",
              "      <th>1</th>\n",
              "      <td>ANGLE PARKING</td>\n",
              "      <td>Bronx</td>\n",
              "      <td></td>\n",
              "      <td>2020</td>\n",
              "      <td>1</td>\n",
              "      <td>45.00</td>\n",
              "    </tr>\n",
              "    <tr>\n",
              "      <th>2</th>\n",
              "      <td>ANGLE PARKING</td>\n",
              "      <td>Brooklyn</td>\n",
              "      <td></td>\n",
              "      <td>2019</td>\n",
              "      <td>7</td>\n",
              "      <td>585.00</td>\n",
              "    </tr>\n",
              "    <tr>\n",
              "      <th>3</th>\n",
              "      <td>ANGLE PARKING</td>\n",
              "      <td>Manhattan</td>\n",
              "      <td></td>\n",
              "      <td>2019</td>\n",
              "      <td>4</td>\n",
              "      <td>303.99</td>\n",
              "    </tr>\n",
              "    <tr>\n",
              "      <th>4</th>\n",
              "      <td>ANGLE PARKING</td>\n",
              "      <td>Queens</td>\n",
              "      <td></td>\n",
              "      <td>2019</td>\n",
              "      <td>5</td>\n",
              "      <td>295.10</td>\n",
              "    </tr>\n",
              "  </tbody>\n",
              "</table>\n",
              "</div>"
            ],
            "text/plain": [
              "       Violation    Borough Top_List  Year  Count  Total_Fine\n",
              "0  ANGLE PARKING      Bronx           2019      2      200.00\n",
              "1  ANGLE PARKING      Bronx           2020      1       45.00\n",
              "2  ANGLE PARKING   Brooklyn           2019      7      585.00\n",
              "3  ANGLE PARKING  Manhattan           2019      4      303.99\n",
              "4  ANGLE PARKING     Queens           2019      5      295.10"
            ]
          },
          "metadata": {
            "tags": []
          },
          "execution_count": 32
        }
      ]
    },
    {
      "cell_type": "markdown",
      "metadata": {
        "id": "_SkTFlnPhTaU",
        "colab_type": "text"
      },
      "source": [
        "# Visualization"
      ]
    },
    {
      "cell_type": "code",
      "metadata": {
        "id": "yHJuE899hTaV",
        "colab_type": "code",
        "colab": {
          "base_uri": "https://localhost:8080/",
          "height": 603
        },
        "outputId": "f1a7ad65-53e4-4ed3-f28d-f84587cc1766"
      },
      "source": [
        "#Top 5 by Borough (Count)\n",
        "plt.figure(figsize=(20,8))\n",
        "g=sns.barplot(x='Violation', y='Count',  hue= 'Borough', \n",
        "            palette='pastel' , ci = None,\n",
        "              #filtered data to only graph 2019 top 5\n",
        "             data=df_Group_A[(df_Group_A['Top_List']=='Top_5') & (df_Group_A['Year']=='2019')])\n",
        "\n",
        "g.set_xlabel(\"Violation Type\",fontsize=20)\n",
        "g.set_ylabel(\"Number of Vilotaions\",fontsize=20)\n",
        "plt.title(\"2019 - Top 5 Violations by Borough\" , fontsize=30, color='darkblue')\n",
        "plt.legend( loc=\"upper center\")\n",
        "\n",
        "\n",
        "plt.xticks(rotation=-5,fontsize=15)\n",
        "plt.yticks(rotation=-0,fontsize=15)"
      ],
      "execution_count": 42,
      "outputs": [
        {
          "output_type": "execute_result",
          "data": {
            "text/plain": [
              "(array([   0., 1000., 2000., 3000., 4000., 5000.]),\n",
              " <a list of 6 Text major ticklabel objects>)"
            ]
          },
          "metadata": {
            "tags": []
          },
          "execution_count": 42
        },
        {
          "output_type": "display_data",
          "data": {
            "image/png": "[encoded data removed]",
            "text/plain": [
              "<Figure size 1440x576 with 1 Axes>"
            ]
          },
          "metadata": {
            "tags": []
          }
        }
      ]
    },
    {
      "cell_type": "markdown",
      "metadata": {
        "id": "SzDQHXKuhTaX",
        "colab_type": "text"
      },
      "source": [
        "## \n"
      ]
    },
    {
      "cell_type": "code",
      "metadata": {
        "scrolled": false,
        "id": "RVyewv0YhTaX",
        "colab_type": "code",
        "colab": {
          "base_uri": "https://localhost:8080/",
          "height": 606
        },
        "outputId": "bbf8eb2b-2107-44c3-d789-c7da63b713cf"
      },
      "source": [
        "#Top 5 by Borough (Sum of Fine)\n",
        "plt.figure(figsize=(20,8))\n",
        "g=sns.barplot(x='Violation', y='Total_Fine',  hue= 'Borough', \n",
        "            palette='pastel' , ci = None,\n",
        "              #filtered data to only graph 2019 top 5\n",
        "             data=df_Group_A[(df_Group_A['Top_List']=='Top_5') & (df_Group_A['Year']=='2019')])\n",
        "\n",
        "g.set_xlabel(\"Violation Type\",fontsize=20)\n",
        "g.set_ylabel(\"Sum of Fine\",fontsize=20)\n",
        "plt.title(\"Top 5 Violations for 2019 by Borough (Sum of Fine)\" ,fontsize=35, color='darkblue')\n",
        "plt.legend( loc=\"upper center\")\n",
        "\n",
        "\n",
        "plt.xticks(rotation=-5,fontsize=15)\n",
        "plt.yticks(rotation=-0,fontsize=15)"
      ],
      "execution_count": 39,
      "outputs": [
        {
          "output_type": "execute_result",
          "data": {
            "text/plain": [
              "(array([     0., 100000., 200000., 300000., 400000., 500000., 600000.,\n",
              "        700000., 800000.]), <a list of 9 Text major ticklabel objects>)"
            ]
          },
          "metadata": {
            "tags": []
          },
          "execution_count": 39
        },
        {
          "output_type": "display_data",
          "data": {
            "image/png": "[encoded data removed]",
            "text/plain": [
              "<Figure size 1440x576 with 1 Axes>"
            ]
          },
          "metadata": {
            "tags": []
          }
        }
      ]
    },
    {
      "cell_type": "markdown",
      "metadata": {
        "id": "lbNP-QAthTaa",
        "colab_type": "text"
      },
      "source": [
        "##"
      ]
    },
    {
      "cell_type": "code",
      "metadata": {
        "id": "1fsU9J4thTaa",
        "colab_type": "code",
        "colab": {}
      },
      "source": [
        ""
      ],
      "execution_count": null,
      "outputs": []
    }
  ]
}